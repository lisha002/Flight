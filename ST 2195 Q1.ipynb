{
 "cells": [
  {
   "cell_type": "markdown",
   "id": "93c25f11",
   "metadata": {},
   "source": [
    "ST 2195 Q1"
   ]
  },
  {
   "cell_type": "markdown",
   "id": "c03752b7",
   "metadata": {},
   "source": [
    "# When is the best time of day, day of the week, and time of year to minimise delays?"
   ]
  },
  {
   "cell_type": "markdown",
   "id": "24fc6334",
   "metadata": {},
   "source": [
    "## Import Data"
   ]
  },
  {
   "cell_type": "code",
   "execution_count": 1,
   "id": "1cf3907b",
   "metadata": {},
   "outputs": [],
   "source": [
    "import pandas as pd\n",
    "import numpy as np\n",
    "import matplotlib.pyplot as plot"
   ]
  },
  {
   "cell_type": "code",
   "execution_count": 2,
   "id": "f88307d9",
   "metadata": {},
   "outputs": [],
   "source": [
    "df2006 = pd.read_csv('2006.csv')"
   ]
  },
  {
   "cell_type": "code",
   "execution_count": 3,
   "id": "71596eb2",
   "metadata": {},
   "outputs": [],
   "source": [
    "df2007 = pd.read_csv('2007.csv')"
   ]
  },
  {
   "cell_type": "markdown",
   "id": "0b73d3b3",
   "metadata": {},
   "source": [
    "## Data Wrangling"
   ]
  },
  {
   "cell_type": "markdown",
   "id": "c6e901b2",
   "metadata": {},
   "source": [
    "We will reduce the columns of the df2006, df2007 data as there are many columnns. For this question, we will only need six columns ('Year', 'Month', 'DayofMonth', 'DayOfweek', 'DepTime', 'ArrDelay'). df1 = df[['col1','col2]]. df1 is the name after we have reduced the column from df. We will use ArrDelay for the analysis for this question. "
   ]
  },
  {
   "cell_type": "code",
   "execution_count": 4,
   "id": "08ddf498",
   "metadata": {},
   "outputs": [],
   "source": [
    "df2006_subtable = df2006[['Year','Month','DayofMonth','DayOfWeek','DepTime','ArrDelay']]"
   ]
  },
  {
   "cell_type": "code",
   "execution_count": 5,
   "id": "d79f77af",
   "metadata": {},
   "outputs": [],
   "source": [
    "df2007_subtable = df2007[['Year','Month','DayofMonth','DayOfWeek','DepTime','ArrDelay']]"
   ]
  },
  {
   "cell_type": "markdown",
   "id": "66e4cb89",
   "metadata": {},
   "source": [
    "We remove rows with Na values in the data. The code used: 'df.dropna()'. When we use '.head' it is to view the table as shown below."
   ]
  },
  {
   "cell_type": "code",
   "execution_count": 6,
   "id": "3da4dc2c",
   "metadata": {},
   "outputs": [
    {
     "data": {
      "text/html": [
       "<div>\n",
       "<style scoped>\n",
       "    .dataframe tbody tr th:only-of-type {\n",
       "        vertical-align: middle;\n",
       "    }\n",
       "\n",
       "    .dataframe tbody tr th {\n",
       "        vertical-align: top;\n",
       "    }\n",
       "\n",
       "    .dataframe thead th {\n",
       "        text-align: right;\n",
       "    }\n",
       "</style>\n",
       "<table border=\"1\" class=\"dataframe\">\n",
       "  <thead>\n",
       "    <tr style=\"text-align: right;\">\n",
       "      <th></th>\n",
       "      <th>Year</th>\n",
       "      <th>Month</th>\n",
       "      <th>DayofMonth</th>\n",
       "      <th>DayOfWeek</th>\n",
       "      <th>DepTime</th>\n",
       "      <th>ArrDelay</th>\n",
       "    </tr>\n",
       "  </thead>\n",
       "  <tbody>\n",
       "    <tr>\n",
       "      <th>0</th>\n",
       "      <td>2006</td>\n",
       "      <td>1</td>\n",
       "      <td>11</td>\n",
       "      <td>3</td>\n",
       "      <td>743.0</td>\n",
       "      <td>6.0</td>\n",
       "    </tr>\n",
       "    <tr>\n",
       "      <th>1</th>\n",
       "      <td>2006</td>\n",
       "      <td>1</td>\n",
       "      <td>11</td>\n",
       "      <td>3</td>\n",
       "      <td>1053.0</td>\n",
       "      <td>-5.0</td>\n",
       "    </tr>\n",
       "    <tr>\n",
       "      <th>2</th>\n",
       "      <td>2006</td>\n",
       "      <td>1</td>\n",
       "      <td>11</td>\n",
       "      <td>3</td>\n",
       "      <td>1915.0</td>\n",
       "      <td>-23.0</td>\n",
       "    </tr>\n",
       "    <tr>\n",
       "      <th>3</th>\n",
       "      <td>2006</td>\n",
       "      <td>1</td>\n",
       "      <td>11</td>\n",
       "      <td>3</td>\n",
       "      <td>1753.0</td>\n",
       "      <td>-8.0</td>\n",
       "    </tr>\n",
       "    <tr>\n",
       "      <th>4</th>\n",
       "      <td>2006</td>\n",
       "      <td>1</td>\n",
       "      <td>11</td>\n",
       "      <td>3</td>\n",
       "      <td>824.0</td>\n",
       "      <td>0.0</td>\n",
       "    </tr>\n",
       "    <tr>\n",
       "      <th>...</th>\n",
       "      <td>...</td>\n",
       "      <td>...</td>\n",
       "      <td>...</td>\n",
       "      <td>...</td>\n",
       "      <td>...</td>\n",
       "      <td>...</td>\n",
       "    </tr>\n",
       "    <tr>\n",
       "      <th>7141917</th>\n",
       "      <td>2006</td>\n",
       "      <td>12</td>\n",
       "      <td>29</td>\n",
       "      <td>5</td>\n",
       "      <td>1246.0</td>\n",
       "      <td>-7.0</td>\n",
       "    </tr>\n",
       "    <tr>\n",
       "      <th>7141918</th>\n",
       "      <td>2006</td>\n",
       "      <td>12</td>\n",
       "      <td>29</td>\n",
       "      <td>5</td>\n",
       "      <td>1225.0</td>\n",
       "      <td>62.0</td>\n",
       "    </tr>\n",
       "    <tr>\n",
       "      <th>7141919</th>\n",
       "      <td>2006</td>\n",
       "      <td>12</td>\n",
       "      <td>29</td>\n",
       "      <td>5</td>\n",
       "      <td>2118.0</td>\n",
       "      <td>13.0</td>\n",
       "    </tr>\n",
       "    <tr>\n",
       "      <th>7141920</th>\n",
       "      <td>2006</td>\n",
       "      <td>12</td>\n",
       "      <td>29</td>\n",
       "      <td>5</td>\n",
       "      <td>2122.0</td>\n",
       "      <td>-14.0</td>\n",
       "    </tr>\n",
       "    <tr>\n",
       "      <th>7141921</th>\n",
       "      <td>2006</td>\n",
       "      <td>12</td>\n",
       "      <td>29</td>\n",
       "      <td>5</td>\n",
       "      <td>2042.0</td>\n",
       "      <td>-22.0</td>\n",
       "    </tr>\n",
       "  </tbody>\n",
       "</table>\n",
       "<p>7003802 rows × 6 columns</p>\n",
       "</div>"
      ],
      "text/plain": [
       "         Year  Month  DayofMonth  DayOfWeek  DepTime  ArrDelay\n",
       "0        2006      1          11          3    743.0       6.0\n",
       "1        2006      1          11          3   1053.0      -5.0\n",
       "2        2006      1          11          3   1915.0     -23.0\n",
       "3        2006      1          11          3   1753.0      -8.0\n",
       "4        2006      1          11          3    824.0       0.0\n",
       "...       ...    ...         ...        ...      ...       ...\n",
       "7141917  2006     12          29          5   1246.0      -7.0\n",
       "7141918  2006     12          29          5   1225.0      62.0\n",
       "7141919  2006     12          29          5   2118.0      13.0\n",
       "7141920  2006     12          29          5   2122.0     -14.0\n",
       "7141921  2006     12          29          5   2042.0     -22.0\n",
       "\n",
       "[7003802 rows x 6 columns]"
      ]
     },
     "execution_count": 6,
     "metadata": {},
     "output_type": "execute_result"
    }
   ],
   "source": [
    "df2006_subtable_no_na = df2006_subtable.dropna()\n",
    "df2006_subtable_no_na.head(7141922)"
   ]
  },
  {
   "cell_type": "code",
   "execution_count": 7,
   "id": "c9398da8",
   "metadata": {
    "scrolled": false
   },
   "outputs": [
    {
     "data": {
      "text/html": [
       "<div>\n",
       "<style scoped>\n",
       "    .dataframe tbody tr th:only-of-type {\n",
       "        vertical-align: middle;\n",
       "    }\n",
       "\n",
       "    .dataframe tbody tr th {\n",
       "        vertical-align: top;\n",
       "    }\n",
       "\n",
       "    .dataframe thead th {\n",
       "        text-align: right;\n",
       "    }\n",
       "</style>\n",
       "<table border=\"1\" class=\"dataframe\">\n",
       "  <thead>\n",
       "    <tr style=\"text-align: right;\">\n",
       "      <th></th>\n",
       "      <th>Year</th>\n",
       "      <th>Month</th>\n",
       "      <th>DayofMonth</th>\n",
       "      <th>DayOfWeek</th>\n",
       "      <th>DepTime</th>\n",
       "      <th>ArrDelay</th>\n",
       "    </tr>\n",
       "  </thead>\n",
       "  <tbody>\n",
       "    <tr>\n",
       "      <th>0</th>\n",
       "      <td>2007</td>\n",
       "      <td>1</td>\n",
       "      <td>1</td>\n",
       "      <td>1</td>\n",
       "      <td>1232.0</td>\n",
       "      <td>1.0</td>\n",
       "    </tr>\n",
       "    <tr>\n",
       "      <th>1</th>\n",
       "      <td>2007</td>\n",
       "      <td>1</td>\n",
       "      <td>1</td>\n",
       "      <td>1</td>\n",
       "      <td>1918.0</td>\n",
       "      <td>8.0</td>\n",
       "    </tr>\n",
       "    <tr>\n",
       "      <th>2</th>\n",
       "      <td>2007</td>\n",
       "      <td>1</td>\n",
       "      <td>1</td>\n",
       "      <td>1</td>\n",
       "      <td>2206.0</td>\n",
       "      <td>34.0</td>\n",
       "    </tr>\n",
       "    <tr>\n",
       "      <th>3</th>\n",
       "      <td>2007</td>\n",
       "      <td>1</td>\n",
       "      <td>1</td>\n",
       "      <td>1</td>\n",
       "      <td>1230.0</td>\n",
       "      <td>26.0</td>\n",
       "    </tr>\n",
       "    <tr>\n",
       "      <th>4</th>\n",
       "      <td>2007</td>\n",
       "      <td>1</td>\n",
       "      <td>1</td>\n",
       "      <td>1</td>\n",
       "      <td>831.0</td>\n",
       "      <td>-3.0</td>\n",
       "    </tr>\n",
       "    <tr>\n",
       "      <th>...</th>\n",
       "      <td>...</td>\n",
       "      <td>...</td>\n",
       "      <td>...</td>\n",
       "      <td>...</td>\n",
       "      <td>...</td>\n",
       "      <td>...</td>\n",
       "    </tr>\n",
       "    <tr>\n",
       "      <th>7453210</th>\n",
       "      <td>2007</td>\n",
       "      <td>12</td>\n",
       "      <td>15</td>\n",
       "      <td>6</td>\n",
       "      <td>1558.0</td>\n",
       "      <td>13.0</td>\n",
       "    </tr>\n",
       "    <tr>\n",
       "      <th>7453211</th>\n",
       "      <td>2007</td>\n",
       "      <td>12</td>\n",
       "      <td>15</td>\n",
       "      <td>6</td>\n",
       "      <td>1902.0</td>\n",
       "      <td>5.0</td>\n",
       "    </tr>\n",
       "    <tr>\n",
       "      <th>7453212</th>\n",
       "      <td>2007</td>\n",
       "      <td>12</td>\n",
       "      <td>15</td>\n",
       "      <td>6</td>\n",
       "      <td>1024.0</td>\n",
       "      <td>15.0</td>\n",
       "    </tr>\n",
       "    <tr>\n",
       "      <th>7453213</th>\n",
       "      <td>2007</td>\n",
       "      <td>12</td>\n",
       "      <td>15</td>\n",
       "      <td>6</td>\n",
       "      <td>1353.0</td>\n",
       "      <td>36.0</td>\n",
       "    </tr>\n",
       "    <tr>\n",
       "      <th>7453214</th>\n",
       "      <td>2007</td>\n",
       "      <td>12</td>\n",
       "      <td>15</td>\n",
       "      <td>6</td>\n",
       "      <td>1824.0</td>\n",
       "      <td>33.0</td>\n",
       "    </tr>\n",
       "  </tbody>\n",
       "</table>\n",
       "<p>7275288 rows × 6 columns</p>\n",
       "</div>"
      ],
      "text/plain": [
       "         Year  Month  DayofMonth  DayOfWeek  DepTime  ArrDelay\n",
       "0        2007      1           1          1   1232.0       1.0\n",
       "1        2007      1           1          1   1918.0       8.0\n",
       "2        2007      1           1          1   2206.0      34.0\n",
       "3        2007      1           1          1   1230.0      26.0\n",
       "4        2007      1           1          1    831.0      -3.0\n",
       "...       ...    ...         ...        ...      ...       ...\n",
       "7453210  2007     12          15          6   1558.0      13.0\n",
       "7453211  2007     12          15          6   1902.0       5.0\n",
       "7453212  2007     12          15          6   1024.0      15.0\n",
       "7453213  2007     12          15          6   1353.0      36.0\n",
       "7453214  2007     12          15          6   1824.0      33.0\n",
       "\n",
       "[7275288 rows x 6 columns]"
      ]
     },
     "execution_count": 7,
     "metadata": {},
     "output_type": "execute_result"
    }
   ],
   "source": [
    "df2007_subtable_no_na = df2007_subtable.dropna()\n",
    "df2007_subtable_no_na.head(7453215)"
   ]
  },
  {
   "cell_type": "markdown",
   "id": "a09ef18b",
   "metadata": {},
   "source": [
    "Next we merge the two years of data into one. "
   ]
  },
  {
   "cell_type": "code",
   "execution_count": 8,
   "id": "9331daf1",
   "metadata": {},
   "outputs": [],
   "source": [
    "df_combined_no_na = pd.concat([df2006_subtable_no_na,df2007_subtable_no_na])"
   ]
  },
  {
   "cell_type": "markdown",
   "id": "0622809c",
   "metadata": {},
   "source": [
    "## Day Of Week"
   ]
  },
  {
   "cell_type": "markdown",
   "id": "7e1ba562",
   "metadata": {},
   "source": [
    "We now find the average delay for each day. After finding the average delay we will plot the bar graph. These steps will be repeated again for time of year."
   ]
  },
  {
   "cell_type": "code",
   "execution_count": 9,
   "id": "2c1377c8",
   "metadata": {},
   "outputs": [],
   "source": [
    "dfcombined_avgDay = df_combined_no_na.pivot_table(values = 'ArrDelay', index = ['DayOfWeek'])"
   ]
  },
  {
   "cell_type": "code",
   "execution_count": 10,
   "id": "0ba3c9da",
   "metadata": {},
   "outputs": [
    {
     "data": {
      "text/html": [
       "<div>\n",
       "<style scoped>\n",
       "    .dataframe tbody tr th:only-of-type {\n",
       "        vertical-align: middle;\n",
       "    }\n",
       "\n",
       "    .dataframe tbody tr th {\n",
       "        vertical-align: top;\n",
       "    }\n",
       "\n",
       "    .dataframe thead th {\n",
       "        text-align: right;\n",
       "    }\n",
       "</style>\n",
       "<table border=\"1\" class=\"dataframe\">\n",
       "  <thead>\n",
       "    <tr style=\"text-align: right;\">\n",
       "      <th></th>\n",
       "      <th>ArrDelay</th>\n",
       "    </tr>\n",
       "    <tr>\n",
       "      <th>DayOfWeek</th>\n",
       "      <th></th>\n",
       "    </tr>\n",
       "  </thead>\n",
       "  <tbody>\n",
       "    <tr>\n",
       "      <th>1</th>\n",
       "      <td>9.701637</td>\n",
       "    </tr>\n",
       "    <tr>\n",
       "      <th>2</th>\n",
       "      <td>7.248411</td>\n",
       "    </tr>\n",
       "    <tr>\n",
       "      <th>3</th>\n",
       "      <td>8.987954</td>\n",
       "    </tr>\n",
       "    <tr>\n",
       "      <th>4</th>\n",
       "      <td>12.141524</td>\n",
       "    </tr>\n",
       "    <tr>\n",
       "      <th>5</th>\n",
       "      <td>12.701676</td>\n",
       "    </tr>\n",
       "    <tr>\n",
       "      <th>6</th>\n",
       "      <td>5.513355</td>\n",
       "    </tr>\n",
       "    <tr>\n",
       "      <th>7</th>\n",
       "      <td>9.247222</td>\n",
       "    </tr>\n",
       "  </tbody>\n",
       "</table>\n",
       "</div>"
      ],
      "text/plain": [
       "            ArrDelay\n",
       "DayOfWeek           \n",
       "1           9.701637\n",
       "2           7.248411\n",
       "3           8.987954\n",
       "4          12.141524\n",
       "5          12.701676\n",
       "6           5.513355\n",
       "7           9.247222"
      ]
     },
     "execution_count": 10,
     "metadata": {},
     "output_type": "execute_result"
    }
   ],
   "source": [
    "dfcombined_avgDay"
   ]
  },
  {
   "cell_type": "code",
   "execution_count": 11,
   "id": "80d13f6a",
   "metadata": {},
   "outputs": [
    {
     "data": {
      "text/plain": [
       "Text(0, 0.5, 'Avg Arr Delay ')"
      ]
     },
     "execution_count": 11,
     "metadata": {},
     "output_type": "execute_result"
    },
    {
     "data": {
      "image/png": "[encoded data removed]",
      "text/plain": [
       "<Figure size 432x288 with 1 Axes>"
      ]
     },
     "metadata": {
      "needs_background": "light"
     },
     "output_type": "display_data"
    }
   ],
   "source": [
    "dfcombined_avgDay.plot(kind=\"bar\")\n",
    "plot.title(\"Average Arrival Delay by Day\")\n",
    "plot.xlabel(\"Day Of Week\")\n",
    "plot.ylabel(\"Avg Arr Delay \")"
   ]
  },
  {
   "cell_type": "markdown",
   "id": "c63f5dc7",
   "metadata": {},
   "source": [
    "## Time of Year"
   ]
  },
  {
   "cell_type": "code",
   "execution_count": 12,
   "id": "c6a901b9",
   "metadata": {},
   "outputs": [],
   "source": [
    "dfcombined_avgmonth = df_combined_no_na.pivot_table(values = 'ArrDelay', index = ['Month'])"
   ]
  },
  {
   "cell_type": "code",
   "execution_count": 13,
   "id": "0005ec61",
   "metadata": {},
   "outputs": [
    {
     "data": {
      "text/html": [
       "<div>\n",
       "<style scoped>\n",
       "    .dataframe tbody tr th:only-of-type {\n",
       "        vertical-align: middle;\n",
       "    }\n",
       "\n",
       "    .dataframe tbody tr th {\n",
       "        vertical-align: top;\n",
       "    }\n",
       "\n",
       "    .dataframe thead th {\n",
       "        text-align: right;\n",
       "    }\n",
       "</style>\n",
       "<table border=\"1\" class=\"dataframe\">\n",
       "  <thead>\n",
       "    <tr style=\"text-align: right;\">\n",
       "      <th></th>\n",
       "      <th>ArrDelay</th>\n",
       "    </tr>\n",
       "    <tr>\n",
       "      <th>Month</th>\n",
       "      <th></th>\n",
       "    </tr>\n",
       "  </thead>\n",
       "  <tbody>\n",
       "    <tr>\n",
       "      <th>1</th>\n",
       "      <td>7.447226</td>\n",
       "    </tr>\n",
       "    <tr>\n",
       "      <th>2</th>\n",
       "      <td>10.498526</td>\n",
       "    </tr>\n",
       "    <tr>\n",
       "      <th>3</th>\n",
       "      <td>9.027283</td>\n",
       "    </tr>\n",
       "    <tr>\n",
       "      <th>4</th>\n",
       "      <td>7.491780</td>\n",
       "    </tr>\n",
       "    <tr>\n",
       "      <th>5</th>\n",
       "      <td>6.964305</td>\n",
       "    </tr>\n",
       "    <tr>\n",
       "      <th>6</th>\n",
       "      <td>14.153010</td>\n",
       "    </tr>\n",
       "    <tr>\n",
       "      <th>7</th>\n",
       "      <td>12.736940</td>\n",
       "    </tr>\n",
       "    <tr>\n",
       "      <th>8</th>\n",
       "      <td>10.662703</td>\n",
       "    </tr>\n",
       "    <tr>\n",
       "      <th>9</th>\n",
       "      <td>6.034441</td>\n",
       "    </tr>\n",
       "    <tr>\n",
       "      <th>10</th>\n",
       "      <td>8.559212</td>\n",
       "    </tr>\n",
       "    <tr>\n",
       "      <th>11</th>\n",
       "      <td>6.002432</td>\n",
       "    </tr>\n",
       "    <tr>\n",
       "      <th>12</th>\n",
       "      <td>13.709167</td>\n",
       "    </tr>\n",
       "  </tbody>\n",
       "</table>\n",
       "</div>"
      ],
      "text/plain": [
       "        ArrDelay\n",
       "Month           \n",
       "1       7.447226\n",
       "2      10.498526\n",
       "3       9.027283\n",
       "4       7.491780\n",
       "5       6.964305\n",
       "6      14.153010\n",
       "7      12.736940\n",
       "8      10.662703\n",
       "9       6.034441\n",
       "10      8.559212\n",
       "11      6.002432\n",
       "12     13.709167"
      ]
     },
     "execution_count": 13,
     "metadata": {},
     "output_type": "execute_result"
    }
   ],
   "source": [
    "dfcombined_avgmonth"
   ]
  },
  {
   "cell_type": "code",
   "execution_count": 14,
   "id": "1439968b",
   "metadata": {},
   "outputs": [
    {
     "data": {
      "text/plain": [
       "Text(0, 0.5, 'Avg Arr Delay ')"
      ]
     },
     "execution_count": 14,
     "metadata": {},
     "output_type": "execute_result"
    },
    {
     "data": {
      "image/png": "[encoded data removed]",
      "text/plain": [
       "<Figure size 432x288 with 1 Axes>"
      ]
     },
     "metadata": {
      "needs_background": "light"
     },
     "output_type": "display_data"
    }
   ],
   "source": [
    "dfcombined_avgmonth.plot(kind=\"bar\")\n",
    "plot.title(\"Average Arrival Delay by Month\")\n",
    "plot.xlabel(\"Month\")\n",
    "plot.ylabel(\"Avg Arr Delay \")"
   ]
  },
  {
   "cell_type": "markdown",
   "id": "7616d50b",
   "metadata": {},
   "source": [
    "## Time of Day"
   ]
  },
  {
   "cell_type": "markdown",
   "id": "f41b7ee5",
   "metadata": {},
   "source": [
    "For time of day we do the similar steps as we did above. We have one extra step. we else if function to slpit the departure time into different time of day. 600-1159 is morning, 1200-1759 is afternoon, 1800-2359 is night, 000-559 is early morning. Else if function can be done by using < or > to range the values to assign the time of day. However I used in range instead as it easier to use. The first value (value before the comma) in the brackets is an inclusive value. While the second value is non-inclusive. After which we can do as we have done in the previous parts. for this part we will not use Diverted and Cancelled flights as the flights might be divertd or cancelled in diffrent time of day.  "
   ]
  },
  {
   "cell_type": "code",
   "execution_count": 15,
   "id": "c2e51f6d",
   "metadata": {},
   "outputs": [],
   "source": [
    "dfcombined_time = []\n",
    "for row in df_combined_no_na['DepTime']:\n",
    "    if row in range (600,1200) : dfcombined_time.append('Morning')\n",
    "    elif row in range (1200,1800) : dfcombined_time.append('Afternoon')\n",
    "    elif row in range (1800,2400): dfcombined_time.append('Night')\n",
    "    else : dfcombined_time.append('Early Morning')\n"
   ]
  },
  {
   "cell_type": "code",
   "execution_count": 16,
   "id": "00dc4091",
   "metadata": {
    "scrolled": true
   },
   "outputs": [],
   "source": [
    "df_combined_no_na['dfcombined_time'] = dfcombined_time \n"
   ]
  },
  {
   "cell_type": "code",
   "execution_count": 17,
   "id": "0992d5f6",
   "metadata": {},
   "outputs": [
    {
     "data": {
      "text/html": [
       "<div>\n",
       "<style scoped>\n",
       "    .dataframe tbody tr th:only-of-type {\n",
       "        vertical-align: middle;\n",
       "    }\n",
       "\n",
       "    .dataframe tbody tr th {\n",
       "        vertical-align: top;\n",
       "    }\n",
       "\n",
       "    .dataframe thead th {\n",
       "        text-align: right;\n",
       "    }\n",
       "</style>\n",
       "<table border=\"1\" class=\"dataframe\">\n",
       "  <thead>\n",
       "    <tr style=\"text-align: right;\">\n",
       "      <th></th>\n",
       "      <th>Year</th>\n",
       "      <th>Month</th>\n",
       "      <th>DayofMonth</th>\n",
       "      <th>DayOfWeek</th>\n",
       "      <th>DepTime</th>\n",
       "      <th>ArrDelay</th>\n",
       "      <th>dfcombined_time</th>\n",
       "    </tr>\n",
       "  </thead>\n",
       "  <tbody>\n",
       "    <tr>\n",
       "      <th>0</th>\n",
       "      <td>2006</td>\n",
       "      <td>1</td>\n",
       "      <td>11</td>\n",
       "      <td>3</td>\n",
       "      <td>743.0</td>\n",
       "      <td>6.0</td>\n",
       "      <td>Morning</td>\n",
       "    </tr>\n",
       "    <tr>\n",
       "      <th>1</th>\n",
       "      <td>2006</td>\n",
       "      <td>1</td>\n",
       "      <td>11</td>\n",
       "      <td>3</td>\n",
       "      <td>1053.0</td>\n",
       "      <td>-5.0</td>\n",
       "      <td>Morning</td>\n",
       "    </tr>\n",
       "    <tr>\n",
       "      <th>2</th>\n",
       "      <td>2006</td>\n",
       "      <td>1</td>\n",
       "      <td>11</td>\n",
       "      <td>3</td>\n",
       "      <td>1915.0</td>\n",
       "      <td>-23.0</td>\n",
       "      <td>Night</td>\n",
       "    </tr>\n",
       "    <tr>\n",
       "      <th>3</th>\n",
       "      <td>2006</td>\n",
       "      <td>1</td>\n",
       "      <td>11</td>\n",
       "      <td>3</td>\n",
       "      <td>1753.0</td>\n",
       "      <td>-8.0</td>\n",
       "      <td>Afternoon</td>\n",
       "    </tr>\n",
       "    <tr>\n",
       "      <th>4</th>\n",
       "      <td>2006</td>\n",
       "      <td>1</td>\n",
       "      <td>11</td>\n",
       "      <td>3</td>\n",
       "      <td>824.0</td>\n",
       "      <td>0.0</td>\n",
       "      <td>Morning</td>\n",
       "    </tr>\n",
       "    <tr>\n",
       "      <th>...</th>\n",
       "      <td>...</td>\n",
       "      <td>...</td>\n",
       "      <td>...</td>\n",
       "      <td>...</td>\n",
       "      <td>...</td>\n",
       "      <td>...</td>\n",
       "      <td>...</td>\n",
       "    </tr>\n",
       "    <tr>\n",
       "      <th>7453210</th>\n",
       "      <td>2007</td>\n",
       "      <td>12</td>\n",
       "      <td>15</td>\n",
       "      <td>6</td>\n",
       "      <td>1558.0</td>\n",
       "      <td>13.0</td>\n",
       "      <td>Afternoon</td>\n",
       "    </tr>\n",
       "    <tr>\n",
       "      <th>7453211</th>\n",
       "      <td>2007</td>\n",
       "      <td>12</td>\n",
       "      <td>15</td>\n",
       "      <td>6</td>\n",
       "      <td>1902.0</td>\n",
       "      <td>5.0</td>\n",
       "      <td>Night</td>\n",
       "    </tr>\n",
       "    <tr>\n",
       "      <th>7453212</th>\n",
       "      <td>2007</td>\n",
       "      <td>12</td>\n",
       "      <td>15</td>\n",
       "      <td>6</td>\n",
       "      <td>1024.0</td>\n",
       "      <td>15.0</td>\n",
       "      <td>Morning</td>\n",
       "    </tr>\n",
       "    <tr>\n",
       "      <th>7453213</th>\n",
       "      <td>2007</td>\n",
       "      <td>12</td>\n",
       "      <td>15</td>\n",
       "      <td>6</td>\n",
       "      <td>1353.0</td>\n",
       "      <td>36.0</td>\n",
       "      <td>Afternoon</td>\n",
       "    </tr>\n",
       "    <tr>\n",
       "      <th>7453214</th>\n",
       "      <td>2007</td>\n",
       "      <td>12</td>\n",
       "      <td>15</td>\n",
       "      <td>6</td>\n",
       "      <td>1824.0</td>\n",
       "      <td>33.0</td>\n",
       "      <td>Night</td>\n",
       "    </tr>\n",
       "  </tbody>\n",
       "</table>\n",
       "<p>14279090 rows × 7 columns</p>\n",
       "</div>"
      ],
      "text/plain": [
       "         Year  Month  DayofMonth  DayOfWeek  DepTime  ArrDelay dfcombined_time\n",
       "0        2006      1          11          3    743.0       6.0         Morning\n",
       "1        2006      1          11          3   1053.0      -5.0         Morning\n",
       "2        2006      1          11          3   1915.0     -23.0           Night\n",
       "3        2006      1          11          3   1753.0      -8.0       Afternoon\n",
       "4        2006      1          11          3    824.0       0.0         Morning\n",
       "...       ...    ...         ...        ...      ...       ...             ...\n",
       "7453210  2007     12          15          6   1558.0      13.0       Afternoon\n",
       "7453211  2007     12          15          6   1902.0       5.0           Night\n",
       "7453212  2007     12          15          6   1024.0      15.0         Morning\n",
       "7453213  2007     12          15          6   1353.0      36.0       Afternoon\n",
       "7453214  2007     12          15          6   1824.0      33.0           Night\n",
       "\n",
       "[14279090 rows x 7 columns]"
      ]
     },
     "execution_count": 17,
     "metadata": {},
     "output_type": "execute_result"
    }
   ],
   "source": [
    "df_combined_no_na"
   ]
  },
  {
   "cell_type": "code",
   "execution_count": 18,
   "id": "d4f74c91",
   "metadata": {},
   "outputs": [],
   "source": [
    "dfcombined_avgtime = df_combined_no_na.pivot_table(values = 'ArrDelay', index = ['dfcombined_time'])"
   ]
  },
  {
   "cell_type": "code",
   "execution_count": 19,
   "id": "f6fe61a5",
   "metadata": {},
   "outputs": [
    {
     "data": {
      "text/html": [
       "<div>\n",
       "<style scoped>\n",
       "    .dataframe tbody tr th:only-of-type {\n",
       "        vertical-align: middle;\n",
       "    }\n",
       "\n",
       "    .dataframe tbody tr th {\n",
       "        vertical-align: top;\n",
       "    }\n",
       "\n",
       "    .dataframe thead th {\n",
       "        text-align: right;\n",
       "    }\n",
       "</style>\n",
       "<table border=\"1\" class=\"dataframe\">\n",
       "  <thead>\n",
       "    <tr style=\"text-align: right;\">\n",
       "      <th></th>\n",
       "      <th>ArrDelay</th>\n",
       "    </tr>\n",
       "    <tr>\n",
       "      <th>dfcombined_time</th>\n",
       "      <th></th>\n",
       "    </tr>\n",
       "  </thead>\n",
       "  <tbody>\n",
       "    <tr>\n",
       "      <th>Afternoon</th>\n",
       "      <td>9.997069</td>\n",
       "    </tr>\n",
       "    <tr>\n",
       "      <th>Early Morning</th>\n",
       "      <td>10.878248</td>\n",
       "    </tr>\n",
       "    <tr>\n",
       "      <th>Morning</th>\n",
       "      <td>1.822631</td>\n",
       "    </tr>\n",
       "    <tr>\n",
       "      <th>Night</th>\n",
       "      <td>21.641754</td>\n",
       "    </tr>\n",
       "  </tbody>\n",
       "</table>\n",
       "</div>"
      ],
      "text/plain": [
       "                  ArrDelay\n",
       "dfcombined_time           \n",
       "Afternoon         9.997069\n",
       "Early Morning    10.878248\n",
       "Morning           1.822631\n",
       "Night            21.641754"
      ]
     },
     "execution_count": 19,
     "metadata": {},
     "output_type": "execute_result"
    }
   ],
   "source": [
    "dfcombined_avgtime"
   ]
  },
  {
   "cell_type": "code",
   "execution_count": 20,
   "id": "e96547de",
   "metadata": {},
   "outputs": [
    {
     "data": {
      "text/plain": [
       "Text(0, 0.5, 'Avg Arr Delay ')"
      ]
     },
     "execution_count": 20,
     "metadata": {},
     "output_type": "execute_result"
    },
    {
     "data": {
      "image/png": "[encoded data removed]",
      "text/plain": [
       "<Figure size 432x288 with 1 Axes>"
      ]
     },
     "metadata": {
      "needs_background": "light"
     },
     "output_type": "display_data"
    }
   ],
   "source": [
    "dfcombined_avgtime.plot(kind=\"bar\")\n",
    "plot.title(\"Average Arrival Delay by Time\")\n",
    "plot.xlabel(\"Time of Day\")\n",
    "plot.ylabel(\"Avg Arr Delay \")\n"
   ]
  }
 ],
 "metadata": {
  "kernelspec": {
   "display_name": "Python 3 (ipykernel)",
   "language": "python",
   "name": "python3"
  },
  "language_info": {
   "codemirror_mode": {
    "name": "ipython",
    "version": 3
   },
   "file_extension": ".py",
   "mimetype": "text/x-python",
   "name": "python",
   "nbconvert_exporter": "python",
   "pygments_lexer": "ipython3",
   "version": "3.9.12"
  }
 },
 "nbformat": 4,
 "nbformat_minor": 5
}
