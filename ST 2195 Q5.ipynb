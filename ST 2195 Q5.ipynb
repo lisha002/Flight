{
 "cells": [
  {
   "cell_type": "markdown",
   "id": "6552e11c",
   "metadata": {},
   "source": [
    "ST 2195 Qn 5"
   ]
  },
  {
   "cell_type": "markdown",
   "id": "e5384b32",
   "metadata": {},
   "source": [
    "# Use the available variables to construct a model that predicts delays."
   ]
  },
  {
   "cell_type": "code",
   "execution_count": 1,
   "id": "e0d7f3b6",
   "metadata": {},
   "outputs": [],
   "source": [
    "import pandas as pd\n",
    "import numpy as np\n",
    "import matplotlib.pyplot as plot"
   ]
  },
  {
   "cell_type": "code",
   "execution_count": 2,
   "id": "319c3632",
   "metadata": {},
   "outputs": [],
   "source": [
    "df2006 = pd.read_csv(\"2006.csv\")"
   ]
  },
  {
   "cell_type": "markdown",
   "id": "2ed78ec9",
   "metadata": {},
   "source": [
    "From question 3 we found the busiest airport which is 'ATL' and it top 4 destination 'LGA','DFW','MCO','EWR'. We will use this 5 airport to create the model. To get other airport data we just have to change the iata of the airport."
   ]
  },
  {
   "cell_type": "code",
   "execution_count": 3,
   "id": "b3a27127",
   "metadata": {},
   "outputs": [],
   "source": [
    "array = ('ATL','LGA','DFW','MCO','EWR')\n",
    "df = df2006.loc[(df2006['Origin'].isin(array)) & (df2006['Dest'].isin(array))]"
   ]
  },
  {
   "cell_type": "markdown",
   "id": "383d8776",
   "metadata": {},
   "source": [
    "We create a new column so that it can be used for training and testing data."
   ]
  },
  {
   "cell_type": "code",
   "execution_count": 4,
   "id": "093671bb",
   "metadata": {},
   "outputs": [
    {
     "name": "stderr",
     "output_type": "stream",
     "text": [
      "C:\\Users\\lisha\\AppData\\Local\\Temp\\ipykernel_14360\\531105141.py:1: SettingWithCopyWarning: \n",
      "A value is trying to be set on a copy of a slice from a DataFrame.\n",
      "Try using .loc[row_indexer,col_indexer] = value instead\n",
      "\n",
      "See the caveats in the documentation: https://pandas.pydata.org/pandas-docs/stable/user_guide/indexing.html#returning-a-view-versus-a-copy\n",
      "  df['ArrDelay_15'] = df['ArrDelay'].apply(lambda x: '1' if x >= 15 else '0')\n"
     ]
    }
   ],
   "source": [
    "df['ArrDelay_15'] = df['ArrDelay'].apply(lambda x: '1' if x >= 15 else '0')"
   ]
  },
  {
   "cell_type": "markdown",
   "id": "a0c9eff0",
   "metadata": {},
   "source": [
    "We keep the relevant data that we will be using for this model."
   ]
  },
  {
   "cell_type": "code",
   "execution_count": 5,
   "id": "6b8f0ce9",
   "metadata": {},
   "outputs": [],
   "source": [
    "df1 = df[[\"Month\",\"DayofMonth\",\"DayOfWeek\",\"Origin\",\"Dest\",\"CRSDepTime\",\"ArrDelay_15\"]]"
   ]
  },
  {
   "cell_type": "markdown",
   "id": "569696a7",
   "metadata": {},
   "source": [
    "we will check for any na values which in this there no is na values that needs to be taken care of."
   ]
  },
  {
   "cell_type": "code",
   "execution_count": 6,
   "id": "696eed20",
   "metadata": {},
   "outputs": [
    {
     "data": {
      "text/plain": [
       "Month          0\n",
       "DayofMonth     0\n",
       "DayOfWeek      0\n",
       "Origin         0\n",
       "Dest           0\n",
       "CRSDepTime     0\n",
       "ArrDelay_15    0\n",
       "dtype: int64"
      ]
     },
     "execution_count": 6,
     "metadata": {},
     "output_type": "execute_result"
    }
   ],
   "source": [
    "df1.isnull().sum()"
   ]
  },
  {
   "cell_type": "markdown",
   "id": "ab5b1028",
   "metadata": {},
   "source": [
    "Now we want change the 24 hour time shown as 0000 to something can be used for 24 hour clock shown like 00:00. we divide by 100 so that the last digits will be after the decimal place for prediction later. "
   ]
  },
  {
   "cell_type": "code",
   "execution_count": 7,
   "id": "dae36d98",
   "metadata": {},
   "outputs": [
    {
     "data": {
      "text/html": [
       "<div>\n",
       "<style scoped>\n",
       "    .dataframe tbody tr th:only-of-type {\n",
       "        vertical-align: middle;\n",
       "    }\n",
       "\n",
       "    .dataframe tbody tr th {\n",
       "        vertical-align: top;\n",
       "    }\n",
       "\n",
       "    .dataframe thead th {\n",
       "        text-align: right;\n",
       "    }\n",
       "</style>\n",
       "<table border=\"1\" class=\"dataframe\">\n",
       "  <thead>\n",
       "    <tr style=\"text-align: right;\">\n",
       "      <th></th>\n",
       "      <th>Month</th>\n",
       "      <th>DayofMonth</th>\n",
       "      <th>DayOfWeek</th>\n",
       "      <th>Origin</th>\n",
       "      <th>Dest</th>\n",
       "      <th>CRSDepTime</th>\n",
       "      <th>ArrDelay_15</th>\n",
       "    </tr>\n",
       "  </thead>\n",
       "  <tbody>\n",
       "    <tr>\n",
       "      <th>201324</th>\n",
       "      <td>1</td>\n",
       "      <td>7</td>\n",
       "      <td>6</td>\n",
       "      <td>ATL</td>\n",
       "      <td>EWR</td>\n",
       "      <td>12</td>\n",
       "      <td>0</td>\n",
       "    </tr>\n",
       "    <tr>\n",
       "      <th>210224</th>\n",
       "      <td>1</td>\n",
       "      <td>21</td>\n",
       "      <td>6</td>\n",
       "      <td>ATL</td>\n",
       "      <td>EWR</td>\n",
       "      <td>12</td>\n",
       "      <td>1</td>\n",
       "    </tr>\n",
       "    <tr>\n",
       "      <th>214994</th>\n",
       "      <td>1</td>\n",
       "      <td>28</td>\n",
       "      <td>6</td>\n",
       "      <td>EWR</td>\n",
       "      <td>ATL</td>\n",
       "      <td>9</td>\n",
       "      <td>0</td>\n",
       "    </tr>\n",
       "    <tr>\n",
       "      <th>215350</th>\n",
       "      <td>1</td>\n",
       "      <td>7</td>\n",
       "      <td>6</td>\n",
       "      <td>EWR</td>\n",
       "      <td>ATL</td>\n",
       "      <td>9</td>\n",
       "      <td>0</td>\n",
       "    </tr>\n",
       "    <tr>\n",
       "      <th>215906</th>\n",
       "      <td>1</td>\n",
       "      <td>14</td>\n",
       "      <td>6</td>\n",
       "      <td>ATL</td>\n",
       "      <td>EWR</td>\n",
       "      <td>12</td>\n",
       "      <td>1</td>\n",
       "    </tr>\n",
       "    <tr>\n",
       "      <th>...</th>\n",
       "      <td>...</td>\n",
       "      <td>...</td>\n",
       "      <td>...</td>\n",
       "      <td>...</td>\n",
       "      <td>...</td>\n",
       "      <td>...</td>\n",
       "      <td>...</td>\n",
       "    </tr>\n",
       "    <tr>\n",
       "      <th>7141839</th>\n",
       "      <td>12</td>\n",
       "      <td>29</td>\n",
       "      <td>5</td>\n",
       "      <td>LGA</td>\n",
       "      <td>MCO</td>\n",
       "      <td>15</td>\n",
       "      <td>0</td>\n",
       "    </tr>\n",
       "    <tr>\n",
       "      <th>7141902</th>\n",
       "      <td>12</td>\n",
       "      <td>29</td>\n",
       "      <td>5</td>\n",
       "      <td>DFW</td>\n",
       "      <td>ATL</td>\n",
       "      <td>7</td>\n",
       "      <td>0</td>\n",
       "    </tr>\n",
       "    <tr>\n",
       "      <th>7141903</th>\n",
       "      <td>12</td>\n",
       "      <td>29</td>\n",
       "      <td>5</td>\n",
       "      <td>ATL</td>\n",
       "      <td>MCO</td>\n",
       "      <td>11</td>\n",
       "      <td>0</td>\n",
       "    </tr>\n",
       "    <tr>\n",
       "      <th>7141917</th>\n",
       "      <td>12</td>\n",
       "      <td>29</td>\n",
       "      <td>5</td>\n",
       "      <td>ATL</td>\n",
       "      <td>EWR</td>\n",
       "      <td>12</td>\n",
       "      <td>0</td>\n",
       "    </tr>\n",
       "    <tr>\n",
       "      <th>7141919</th>\n",
       "      <td>12</td>\n",
       "      <td>29</td>\n",
       "      <td>5</td>\n",
       "      <td>ATL</td>\n",
       "      <td>MCO</td>\n",
       "      <td>21</td>\n",
       "      <td>0</td>\n",
       "    </tr>\n",
       "  </tbody>\n",
       "</table>\n",
       "<p>118205 rows × 7 columns</p>\n",
       "</div>"
      ],
      "text/plain": [
       "         Month  DayofMonth  DayOfWeek Origin Dest  CRSDepTime ArrDelay_15\n",
       "201324       1           7          6    ATL  EWR          12           0\n",
       "210224       1          21          6    ATL  EWR          12           1\n",
       "214994       1          28          6    EWR  ATL           9           0\n",
       "215350       1           7          6    EWR  ATL           9           0\n",
       "215906       1          14          6    ATL  EWR          12           1\n",
       "...        ...         ...        ...    ...  ...         ...         ...\n",
       "7141839     12          29          5    LGA  MCO          15           0\n",
       "7141902     12          29          5    DFW  ATL           7           0\n",
       "7141903     12          29          5    ATL  MCO          11           0\n",
       "7141917     12          29          5    ATL  EWR          12           0\n",
       "7141919     12          29          5    ATL  MCO          21           0\n",
       "\n",
       "[118205 rows x 7 columns]"
      ]
     },
     "execution_count": 7,
     "metadata": {},
     "output_type": "execute_result"
    }
   ],
   "source": [
    "import math\n",
    "\n",
    "for index, row in df1.iterrows():\n",
    "    df1.loc[index, 'CRSDepTime'] = math.floor(row['CRSDepTime'] / 100)\n",
    "df1"
   ]
  },
  {
   "cell_type": "markdown",
   "id": "d2ab3a91",
   "metadata": {},
   "source": [
    "Now we change the column data 'Origin' and 'Dest' with its values to columns. "
   ]
  },
  {
   "cell_type": "code",
   "execution_count": 8,
   "id": "202913f6",
   "metadata": {
    "scrolled": false
   },
   "outputs": [
    {
     "data": {
      "text/html": [
       "<div>\n",
       "<style scoped>\n",
       "    .dataframe tbody tr th:only-of-type {\n",
       "        vertical-align: middle;\n",
       "    }\n",
       "\n",
       "    .dataframe tbody tr th {\n",
       "        vertical-align: top;\n",
       "    }\n",
       "\n",
       "    .dataframe thead th {\n",
       "        text-align: right;\n",
       "    }\n",
       "</style>\n",
       "<table border=\"1\" class=\"dataframe\">\n",
       "  <thead>\n",
       "    <tr style=\"text-align: right;\">\n",
       "      <th></th>\n",
       "      <th>Month</th>\n",
       "      <th>DayofMonth</th>\n",
       "      <th>DayOfWeek</th>\n",
       "      <th>CRSDepTime</th>\n",
       "      <th>ArrDelay_15</th>\n",
       "      <th>Origin_ATL</th>\n",
       "      <th>Origin_DFW</th>\n",
       "      <th>Origin_EWR</th>\n",
       "      <th>Origin_LGA</th>\n",
       "      <th>Origin_MCO</th>\n",
       "      <th>Dest_ATL</th>\n",
       "      <th>Dest_DFW</th>\n",
       "      <th>Dest_EWR</th>\n",
       "      <th>Dest_LGA</th>\n",
       "      <th>Dest_MCO</th>\n",
       "    </tr>\n",
       "  </thead>\n",
       "  <tbody>\n",
       "    <tr>\n",
       "      <th>201324</th>\n",
       "      <td>1</td>\n",
       "      <td>7</td>\n",
       "      <td>6</td>\n",
       "      <td>12</td>\n",
       "      <td>0</td>\n",
       "      <td>1</td>\n",
       "      <td>0</td>\n",
       "      <td>0</td>\n",
       "      <td>0</td>\n",
       "      <td>0</td>\n",
       "      <td>0</td>\n",
       "      <td>0</td>\n",
       "      <td>1</td>\n",
       "      <td>0</td>\n",
       "      <td>0</td>\n",
       "    </tr>\n",
       "    <tr>\n",
       "      <th>210224</th>\n",
       "      <td>1</td>\n",
       "      <td>21</td>\n",
       "      <td>6</td>\n",
       "      <td>12</td>\n",
       "      <td>1</td>\n",
       "      <td>1</td>\n",
       "      <td>0</td>\n",
       "      <td>0</td>\n",
       "      <td>0</td>\n",
       "      <td>0</td>\n",
       "      <td>0</td>\n",
       "      <td>0</td>\n",
       "      <td>1</td>\n",
       "      <td>0</td>\n",
       "      <td>0</td>\n",
       "    </tr>\n",
       "    <tr>\n",
       "      <th>214994</th>\n",
       "      <td>1</td>\n",
       "      <td>28</td>\n",
       "      <td>6</td>\n",
       "      <td>9</td>\n",
       "      <td>0</td>\n",
       "      <td>0</td>\n",
       "      <td>0</td>\n",
       "      <td>1</td>\n",
       "      <td>0</td>\n",
       "      <td>0</td>\n",
       "      <td>1</td>\n",
       "      <td>0</td>\n",
       "      <td>0</td>\n",
       "      <td>0</td>\n",
       "      <td>0</td>\n",
       "    </tr>\n",
       "    <tr>\n",
       "      <th>215350</th>\n",
       "      <td>1</td>\n",
       "      <td>7</td>\n",
       "      <td>6</td>\n",
       "      <td>9</td>\n",
       "      <td>0</td>\n",
       "      <td>0</td>\n",
       "      <td>0</td>\n",
       "      <td>1</td>\n",
       "      <td>0</td>\n",
       "      <td>0</td>\n",
       "      <td>1</td>\n",
       "      <td>0</td>\n",
       "      <td>0</td>\n",
       "      <td>0</td>\n",
       "      <td>0</td>\n",
       "    </tr>\n",
       "    <tr>\n",
       "      <th>215906</th>\n",
       "      <td>1</td>\n",
       "      <td>14</td>\n",
       "      <td>6</td>\n",
       "      <td>12</td>\n",
       "      <td>1</td>\n",
       "      <td>1</td>\n",
       "      <td>0</td>\n",
       "      <td>0</td>\n",
       "      <td>0</td>\n",
       "      <td>0</td>\n",
       "      <td>0</td>\n",
       "      <td>0</td>\n",
       "      <td>1</td>\n",
       "      <td>0</td>\n",
       "      <td>0</td>\n",
       "    </tr>\n",
       "    <tr>\n",
       "      <th>...</th>\n",
       "      <td>...</td>\n",
       "      <td>...</td>\n",
       "      <td>...</td>\n",
       "      <td>...</td>\n",
       "      <td>...</td>\n",
       "      <td>...</td>\n",
       "      <td>...</td>\n",
       "      <td>...</td>\n",
       "      <td>...</td>\n",
       "      <td>...</td>\n",
       "      <td>...</td>\n",
       "      <td>...</td>\n",
       "      <td>...</td>\n",
       "      <td>...</td>\n",
       "      <td>...</td>\n",
       "    </tr>\n",
       "    <tr>\n",
       "      <th>7141839</th>\n",
       "      <td>12</td>\n",
       "      <td>29</td>\n",
       "      <td>5</td>\n",
       "      <td>15</td>\n",
       "      <td>0</td>\n",
       "      <td>0</td>\n",
       "      <td>0</td>\n",
       "      <td>0</td>\n",
       "      <td>1</td>\n",
       "      <td>0</td>\n",
       "      <td>0</td>\n",
       "      <td>0</td>\n",
       "      <td>0</td>\n",
       "      <td>0</td>\n",
       "      <td>1</td>\n",
       "    </tr>\n",
       "    <tr>\n",
       "      <th>7141902</th>\n",
       "      <td>12</td>\n",
       "      <td>29</td>\n",
       "      <td>5</td>\n",
       "      <td>7</td>\n",
       "      <td>0</td>\n",
       "      <td>0</td>\n",
       "      <td>1</td>\n",
       "      <td>0</td>\n",
       "      <td>0</td>\n",
       "      <td>0</td>\n",
       "      <td>1</td>\n",
       "      <td>0</td>\n",
       "      <td>0</td>\n",
       "      <td>0</td>\n",
       "      <td>0</td>\n",
       "    </tr>\n",
       "    <tr>\n",
       "      <th>7141903</th>\n",
       "      <td>12</td>\n",
       "      <td>29</td>\n",
       "      <td>5</td>\n",
       "      <td>11</td>\n",
       "      <td>0</td>\n",
       "      <td>1</td>\n",
       "      <td>0</td>\n",
       "      <td>0</td>\n",
       "      <td>0</td>\n",
       "      <td>0</td>\n",
       "      <td>0</td>\n",
       "      <td>0</td>\n",
       "      <td>0</td>\n",
       "      <td>0</td>\n",
       "      <td>1</td>\n",
       "    </tr>\n",
       "    <tr>\n",
       "      <th>7141917</th>\n",
       "      <td>12</td>\n",
       "      <td>29</td>\n",
       "      <td>5</td>\n",
       "      <td>12</td>\n",
       "      <td>0</td>\n",
       "      <td>1</td>\n",
       "      <td>0</td>\n",
       "      <td>0</td>\n",
       "      <td>0</td>\n",
       "      <td>0</td>\n",
       "      <td>0</td>\n",
       "      <td>0</td>\n",
       "      <td>1</td>\n",
       "      <td>0</td>\n",
       "      <td>0</td>\n",
       "    </tr>\n",
       "    <tr>\n",
       "      <th>7141919</th>\n",
       "      <td>12</td>\n",
       "      <td>29</td>\n",
       "      <td>5</td>\n",
       "      <td>21</td>\n",
       "      <td>0</td>\n",
       "      <td>1</td>\n",
       "      <td>0</td>\n",
       "      <td>0</td>\n",
       "      <td>0</td>\n",
       "      <td>0</td>\n",
       "      <td>0</td>\n",
       "      <td>0</td>\n",
       "      <td>0</td>\n",
       "      <td>0</td>\n",
       "      <td>1</td>\n",
       "    </tr>\n",
       "  </tbody>\n",
       "</table>\n",
       "<p>118205 rows × 15 columns</p>\n",
       "</div>"
      ],
      "text/plain": [
       "         Month  DayofMonth  DayOfWeek  CRSDepTime ArrDelay_15  Origin_ATL  \\\n",
       "201324       1           7          6          12           0           1   \n",
       "210224       1          21          6          12           1           1   \n",
       "214994       1          28          6           9           0           0   \n",
       "215350       1           7          6           9           0           0   \n",
       "215906       1          14          6          12           1           1   \n",
       "...        ...         ...        ...         ...         ...         ...   \n",
       "7141839     12          29          5          15           0           0   \n",
       "7141902     12          29          5           7           0           0   \n",
       "7141903     12          29          5          11           0           1   \n",
       "7141917     12          29          5          12           0           1   \n",
       "7141919     12          29          5          21           0           1   \n",
       "\n",
       "         Origin_DFW  Origin_EWR  Origin_LGA  Origin_MCO  Dest_ATL  Dest_DFW  \\\n",
       "201324            0           0           0           0         0         0   \n",
       "210224            0           0           0           0         0         0   \n",
       "214994            0           1           0           0         1         0   \n",
       "215350            0           1           0           0         1         0   \n",
       "215906            0           0           0           0         0         0   \n",
       "...             ...         ...         ...         ...       ...       ...   \n",
       "7141839           0           0           1           0         0         0   \n",
       "7141902           1           0           0           0         1         0   \n",
       "7141903           0           0           0           0         0         0   \n",
       "7141917           0           0           0           0         0         0   \n",
       "7141919           0           0           0           0         0         0   \n",
       "\n",
       "         Dest_EWR  Dest_LGA  Dest_MCO  \n",
       "201324          1         0         0  \n",
       "210224          1         0         0  \n",
       "214994          0         0         0  \n",
       "215350          0         0         0  \n",
       "215906          1         0         0  \n",
       "...           ...       ...       ...  \n",
       "7141839         0         0         1  \n",
       "7141902         0         0         0  \n",
       "7141903         0         0         1  \n",
       "7141917         1         0         0  \n",
       "7141919         0         0         1  \n",
       "\n",
       "[118205 rows x 15 columns]"
      ]
     },
     "execution_count": 8,
     "metadata": {},
     "output_type": "execute_result"
    }
   ],
   "source": [
    "df2 = pd.get_dummies(df1, columns=['Origin' , 'Dest'])\n",
    "df2"
   ]
  },
  {
   "cell_type": "markdown",
   "id": "56309a03",
   "metadata": {},
   "source": [
    "We split the train and test set."
   ]
  },
  {
   "cell_type": "code",
   "execution_count": 9,
   "id": "450d7b12",
   "metadata": {},
   "outputs": [],
   "source": [
    "from sklearn.model_selection import train_test_split\n",
    "train_x, test_x, train_y, test_y = train_test_split(df2.drop('ArrDelay_15', axis=1), df2['ArrDelay_15'], test_size=0.3, random_state=42)"
   ]
  },
  {
   "cell_type": "code",
   "execution_count": 10,
   "id": "5dd5386c",
   "metadata": {},
   "outputs": [
    {
     "data": {
      "text/plain": [
       "(82743, 14)"
      ]
     },
     "execution_count": 10,
     "metadata": {},
     "output_type": "execute_result"
    }
   ],
   "source": [
    "train_x.shape"
   ]
  },
  {
   "cell_type": "code",
   "execution_count": 11,
   "id": "5bc73b27",
   "metadata": {},
   "outputs": [
    {
     "data": {
      "text/plain": [
       "(35462, 14)"
      ]
     },
     "execution_count": 11,
     "metadata": {},
     "output_type": "execute_result"
    }
   ],
   "source": [
    "test_x.shape"
   ]
  },
  {
   "cell_type": "code",
   "execution_count": 12,
   "id": "0b4a8396",
   "metadata": {},
   "outputs": [
    {
     "data": {
      "text/plain": [
       "RandomForestClassifier(random_state=28)"
      ]
     },
     "execution_count": 12,
     "metadata": {},
     "output_type": "execute_result"
    }
   ],
   "source": [
    "from sklearn.ensemble import RandomForestClassifier\n",
    "\n",
    "model = RandomForestClassifier(random_state=28, n_estimators=100)\n",
    "model.fit(train_x, train_y)"
   ]
  },
  {
   "cell_type": "markdown",
   "id": "cf632bf7",
   "metadata": {},
   "source": [
    "Now we find the score of this model right prediction out of total predictions."
   ]
  },
  {
   "cell_type": "code",
   "execution_count": 13,
   "id": "68b0110a",
   "metadata": {},
   "outputs": [
    {
     "data": {
      "text/plain": [
       "0.7595736281089617"
      ]
     },
     "execution_count": 13,
     "metadata": {},
     "output_type": "execute_result"
    }
   ],
   "source": [
    "predicted = model.predict(test_x)\n",
    "model.score(test_x, test_y)"
   ]
  },
  {
   "cell_type": "markdown",
   "id": "a73d1b2b",
   "metadata": {},
   "source": [
    "Finding effciency of the model."
   ]
  },
  {
   "cell_type": "code",
   "execution_count": 14,
   "id": "352bb7ae",
   "metadata": {},
   "outputs": [],
   "source": [
    "from sklearn.metrics import roc_auc_score\n",
    "probability = model.predict_proba(test_x)"
   ]
  },
  {
   "cell_type": "code",
   "execution_count": 15,
   "id": "a286e1cb",
   "metadata": {},
   "outputs": [
    {
     "data": {
      "text/plain": [
       "0.7676771224648438"
      ]
     },
     "execution_count": 15,
     "metadata": {},
     "output_type": "execute_result"
    }
   ],
   "source": [
    "roc_auc_score(test_y, probability[:, 1])"
   ]
  },
  {
   "cell_type": "code",
   "execution_count": 16,
   "id": "cbf7085e",
   "metadata": {},
   "outputs": [
    {
     "data": {
      "text/plain": [
       "array([[21849,  3266],\n",
       "       [ 5260,  5087]], dtype=int64)"
      ]
     },
     "execution_count": 16,
     "metadata": {},
     "output_type": "execute_result"
    }
   ],
   "source": [
    "from sklearn.metrics import confusion_matrix\n",
    "confusion_matrix(test_y, predicted)"
   ]
  },
  {
   "cell_type": "markdown",
   "id": "9c226559",
   "metadata": {},
   "source": [
    "Now we the find accuracy of positive accuracy and completeness of positive predictions."
   ]
  },
  {
   "cell_type": "code",
   "execution_count": 17,
   "id": "6df14ab7",
   "metadata": {},
   "outputs": [
    {
     "data": {
      "text/plain": [
       "0.9230220000892498"
      ]
     },
     "execution_count": 17,
     "metadata": {},
     "output_type": "execute_result"
    }
   ],
   "source": [
    "from sklearn.metrics import precision_score\n",
    "\n",
    "train_predictions = model.predict(train_x)\n",
    "precision_score(train_y, train_predictions , pos_label='1')"
   ]
  },
  {
   "cell_type": "code",
   "execution_count": 18,
   "id": "f1f78841",
   "metadata": {},
   "outputs": [
    {
     "data": {
      "text/plain": [
       "0.8614743856726365"
      ]
     },
     "execution_count": 18,
     "metadata": {},
     "output_type": "execute_result"
    }
   ],
   "source": [
    "from sklearn.metrics import recall_score\n",
    "\n",
    "recall_score(train_y, train_predictions , pos_label='1')"
   ]
  },
  {
   "cell_type": "markdown",
   "id": "90cadfc0",
   "metadata": {},
   "source": [
    "Now we plot the roc curve."
   ]
  },
  {
   "cell_type": "code",
   "execution_count": 19,
   "id": "05b04cff",
   "metadata": {},
   "outputs": [],
   "source": [
    "import seaborn as sns\n",
    "\n",
    "sns.set()"
   ]
  },
  {
   "cell_type": "code",
   "execution_count": 20,
   "id": "2459e476",
   "metadata": {},
   "outputs": [],
   "source": [
    "from sklearn.metrics import roc_curve"
   ]
  },
  {
   "cell_type": "code",
   "execution_count": 21,
   "id": "4cfeacff",
   "metadata": {},
   "outputs": [
    {
     "data": {
      "text/plain": [
       "Text(0, 0.5, 'True Positive Rate')"
      ]
     },
     "execution_count": 21,
     "metadata": {},
     "output_type": "execute_result"
    },
    {
     "data": {
      "image/png": "[encoded data removed]",
      "text/plain": [
       "<Figure size 432x288 with 1 Axes>"
      ]
     },
     "metadata": {},
     "output_type": "display_data"
    }
   ],
   "source": [
    "fpr, tpr, _ = roc_curve(test_y, probability[:, 1],  pos_label='1')\n",
    "plot.plot(fpr, tpr)\n",
    "plot.plot([0, 1], [0, 1], color='red', lw=1, linestyle='--')\n",
    "plot.xlabel('False Positive Rate')\n",
    "plot.ylabel('True Positive Rate')"
   ]
  },
  {
   "cell_type": "markdown",
   "id": "f03cb723",
   "metadata": {},
   "source": [
    "We create the delay prediction with following code."
   ]
  },
  {
   "cell_type": "code",
   "execution_count": 22,
   "id": "f6df0f79",
   "metadata": {},
   "outputs": [],
   "source": [
    "def predict_delay(departure_date_time, origin, dest):\n",
    "    from datetime import datetime\n",
    "    try:\n",
    "        departure_date_time_parsed = datetime.strptime(departure_date_time, '%d/%m/%Y %H:%M:%S')\n",
    "    except ValueError as e:\n",
    "        return 'Error parsing date/time - {}'.format(e)      # If we were to type something that gives error this will be shown.\n",
    "    \n",
    "    month = departure_date_time_parsed.month\n",
    "    day = departure_date_time_parsed.day\n",
    "    day_of_week = departure_date_time_parsed.isoweekday()\n",
    "    hour = departure_date_time_parsed.hour\n",
    "    origin = origin.upper()\n",
    "    dest = dest.upper()\n",
    "    \n",
    "    input = [{'Month' : month,\n",
    "              'DayofMonth' : day,\n",
    "              'DayOfWeek' : day_of_week,\n",
    "              'CRSDepTime' : hour,\n",
    "              'Origin_ATL' : 1 if origin == 'ATL' else 0,\n",
    "              'Origin_DFW' : 1 if origin == 'DFW' else 0,\n",
    "              'Origin_EWR' : 1 if origin == 'EWR' else 0,\n",
    "              'Origin_LGA' : 1 if origin == 'LGA' else 0,\n",
    "              'Origin_MCO' : 1 if origin == 'MCO' else 0,\n",
    "              'Dest_ATL' : 1 if dest == 'ATL' else 0,\n",
    "              'Dest_DFW' : 1 if dest == 'DFW' else 0,\n",
    "              'Dest_EWR' : 1 if dest == 'EWR' else 0,\n",
    "              'Dest_LGA' : 1 if dest == 'LGA' else 0,\n",
    "              'Dest_MCO' : 1 if dest == 'MCO' else 0}]\n",
    "    return model.predict_proba(pd.DataFrame(input))[0][0]"
   ]
  },
  {
   "cell_type": "code",
   "execution_count": 23,
   "id": "a2fd4f17",
   "metadata": {},
   "outputs": [
    {
     "data": {
      "text/plain": [
       "0.82"
      ]
     },
     "execution_count": 23,
     "metadata": {},
     "output_type": "execute_result"
    }
   ],
   "source": [
    "predict_delay('28/2/2006 20:45:00', 'DFW', 'MCO')"
   ]
  },
  {
   "cell_type": "code",
   "execution_count": 24,
   "id": "770cb815",
   "metadata": {},
   "outputs": [
    {
     "data": {
      "text/plain": [
       "0.8126666666666666"
      ]
     },
     "execution_count": 24,
     "metadata": {},
     "output_type": "execute_result"
    }
   ],
   "source": [
    "predict_delay('15/10/2006 10:20:00', 'EWR', 'ATL')"
   ]
  },
  {
   "cell_type": "code",
   "execution_count": 25,
   "id": "2821c0ca",
   "metadata": {},
   "outputs": [
    {
     "data": {
      "text/plain": [
       "0.99"
      ]
     },
     "execution_count": 25,
     "metadata": {},
     "output_type": "execute_result"
    }
   ],
   "source": [
    "predict_delay('25/12/2006 02:10:00', 'LGA', 'DFW')"
   ]
  }
 ],
 "metadata": {
  "kernelspec": {
   "display_name": "Python 3 (ipykernel)",
   "language": "python",
   "name": "python3"
  },
  "language_info": {
   "codemirror_mode": {
    "name": "ipython",
    "version": 3
   },
   "file_extension": ".py",
   "mimetype": "text/x-python",
   "name": "python",
   "nbconvert_exporter": "python",
   "pygments_lexer": "ipython3",
   "version": "3.9.12"
  }
 },
 "nbformat": 4,
 "nbformat_minor": 5
}
